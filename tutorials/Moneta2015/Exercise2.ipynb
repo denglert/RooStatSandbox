{
 "cells": [
  {
   "cell_type": "code",
   "execution_count": 1,
   "metadata": {},
   "outputs": [
    {
     "name": "stdout",
     "output_type": "stream",
     "text": [
      "Welcome to JupyROOT 6.12/06\n"
     ]
    }
   ],
   "source": [
    "import ROOT"
   ]
  },
  {
   "cell_type": "code",
   "execution_count": 2,
   "metadata": {},
   "outputs": [
    {
     "name": "stdout",
     "output_type": "stream",
     "text": [
      "\n",
      "\u001b[1mRooFit v3.60 -- Developed by Wouter Verkerke and David Kirkby\u001b[0m \n",
      "                Copyright (C) 2000-2013 NIKHEF, University of California & Stanford University\n",
      "                All rights reserved, please read http://roofit.sourceforge.net/license.txt\n",
      "\n"
     ]
    }
   ],
   "source": [
    "w = ROOT.RooWorkspace(\"w\");"
   ]
  },
  {
   "cell_type": "code",
   "execution_count": 3,
   "metadata": {},
   "outputs": [],
   "source": [
    "x = w.factory(\"x[110,160]\");"
   ]
  },
  {
   "cell_type": "markdown",
   "metadata": {},
   "source": [
    "## Data"
   ]
  },
  {
   "cell_type": "code",
   "execution_count": 4,
   "metadata": {},
   "outputs": [],
   "source": [
    "tree = ROOT.TTree(\"tree\",\"tree\")\n",
    "nevt = tree.ReadFile(\"Hgg.txt\",\"x\")"
   ]
  },
  {
   "cell_type": "code",
   "execution_count": 5,
   "metadata": {},
   "outputs": [],
   "source": [
    "argset = ROOT.RooArgSet(x)"
   ]
  },
  {
   "cell_type": "code",
   "execution_count": 6,
   "metadata": {},
   "outputs": [
    {
     "name": "stdout",
     "output_type": "stream",
     "text": [
      "[#1] INFO:Eval -- RooAbsReal::attachToTree(x) TTree Float_t branch x will be converted to double precision\n"
     ]
    }
   ],
   "source": [
    "data = ROOT.RooDataSet(\"data\",\"data\",argset,ROOT.RooFit.Import(tree) )"
   ]
  },
  {
   "cell_type": "markdown",
   "metadata": {},
   "source": [
    "## Build workspace"
   ]
  },
  {
   "cell_type": "code",
   "execution_count": 7,
   "metadata": {},
   "outputs": [
    {
     "data": {
      "text/plain": [
       "<ROOT.RooRealVar object (\"nbackground\") at 0x6b4f8a0>"
      ]
     },
     "execution_count": 7,
     "metadata": {},
     "output_type": "execute_result"
    }
   ],
   "source": [
    "w.factory(\"nbackground[10000, 0, 1000000]\")"
   ]
  },
  {
   "cell_type": "code",
   "execution_count": 8,
   "metadata": {},
   "outputs": [
    {
     "data": {
      "text/plain": [
       "<ROOT.RooRealVar object (\"nsignal\") at 0x707d860>"
      ]
     },
     "execution_count": 8,
     "metadata": {},
     "output_type": "execute_result"
    }
   ],
   "source": [
    "w.factory(\"nsignal[100, 0.0, 1000.0]\")"
   ]
  },
  {
   "cell_type": "code",
   "execution_count": 9,
   "metadata": {},
   "outputs": [],
   "source": [
    "w.var(\"nbackground\").setMin(0.1*nevt)\n",
    "w.var(\"nbackground\").setMax(10*nevt)"
   ]
  },
  {
   "cell_type": "markdown",
   "metadata": {},
   "source": [
    "### Background"
   ]
  },
  {
   "cell_type": "code",
   "execution_count": 10,
   "metadata": {},
   "outputs": [
    {
     "data": {
      "text/plain": [
       "<ROOT.RooExponential object (\"bmodel\") at 0x71ae5f0>"
      ]
     },
     "execution_count": 10,
     "metadata": {},
     "output_type": "execute_result"
    }
   ],
   "source": [
    "w.factory(\"a1[ 7.5, -500, 500]\")\n",
    "w.factory(\"a2[-1.5, -500, 500]\")\n",
    "w.factory(\"expr::z('-(a1*x/100 + a2*(x/100)^2)', a1, a2, x)\")\n",
    "w.factory(\"Exponential::bmodel(z, 1)\")"
   ]
  },
  {
   "cell_type": "markdown",
   "metadata": {},
   "source": [
    "### Signal model"
   ]
  },
  {
   "cell_type": "code",
   "execution_count": 11,
   "metadata": {},
   "outputs": [],
   "source": [
    "w.factory(\"mass[130, 110, 150]\")\n",
    "w.factory(\"width[1, 0.5, 5]\")\n",
    "w.factory(\"Gaussian::smodel(x, mass, width)\")\n",
    "smodel = w.pdf(\"smodel\");"
   ]
  },
  {
   "cell_type": "markdown",
   "metadata": {},
   "source": [
    "### Complete model"
   ]
  },
  {
   "cell_type": "code",
   "execution_count": 12,
   "metadata": {},
   "outputs": [
    {
     "data": {
      "text/plain": [
       "<ROOT.RooAddPdf object (\"model\") at 0x71fec70>"
      ]
     },
     "execution_count": 12,
     "metadata": {},
     "output_type": "execute_result"
    }
   ],
   "source": [
    "w.factory(\"SUM::model(nbackground*bmodel, nsignal*smodel)\")"
   ]
  },
  {
   "cell_type": "code",
   "execution_count": 13,
   "metadata": {},
   "outputs": [],
   "source": [
    "model = w.pdf(\"model\")"
   ]
  },
  {
   "cell_type": "code",
   "execution_count": 14,
   "metadata": {},
   "outputs": [
    {
     "name": "stdout",
     "output_type": "stream",
     "text": [
      "[#1] INFO:Minization -- p.d.f. provides expected number of events, including extended term in likelihood.\n",
      "[#1] INFO:NumericIntegration -- RooRealIntegral::init(bmodel_Int[x]) using numeric integrator RooIntegrator1D to calculate Int(x)\n",
      "[#1] INFO:Minization -- createNLL: caching constraint set under name CONSTR_OF_PDF_model_FOR_OBS_x with 0 entries\n",
      "[#1] INFO:Minization -- RooMinimizer::optimizeConst: activating const optimization\n",
      "[#1] INFO:NumericIntegration -- RooRealIntegral::init(bmodel_Int[x]) using numeric integrator RooIntegrator1D to calculate Int(x)\n",
      "[#1] INFO:Minization --  The following expressions will be evaluated in cache-and-track mode: (bmodel,smodel)\n",
      "Minuit2Minimizer: Minimize with max-calls 3000 convergence for edm < 1 strategy 1\n",
      "[#1] INFO:Minization -- RooNLLVar::evaluatePartition(nll_model_data) first = 0 last = 30770 Likelihood offset now set to -156454\n",
      "MnSeedGenerator: for initial parameters FCN = 0\n",
      "MnSeedGenerator: Initial state:   - FCN =                0 Edm =      13047.5 NCalls =     29\n",
      "MnSeedGenerator: Negative G2 found - new state:   - FCN =  -382.0092799579 Edm =      14725.8 NCalls =    122\n",
      "VariableMetric: start iterating until Edm is < 0.001\n",
      "VariableMetric: Initial state   - FCN =  -382.0092799579 Edm =      14725.8 NCalls =    122\n",
      "VariableMetric: Iteration #   0 - FCN =  -382.0092799579 Edm =      14725.8 NCalls =    122\n",
      "VariableMetric: Iteration #   1 - FCN =  -13556.87692588 Edm =      132.701 NCalls =    142\n",
      "VariableMetric: Iteration #   2 - FCN =  -13640.91200337 Edm =      16.7374 NCalls =    158\n",
      "VariableMetric: Iteration #   3 - FCN =  -13656.88014017 Edm =     0.206921 NCalls =    178\n",
      "VariableMetric: Iteration #   4 - FCN =  -13660.33524286 Edm =     0.198408 NCalls =    202\n",
      "VariableMetric: Iteration #   5 - FCN =  -13660.54964564 Edm =     0.115062 NCalls =    216\n",
      "VariableMetric: Iteration #   6 - FCN =  -13660.61067996 Edm =    0.0280056 NCalls =    230\n",
      "VariableMetric: Iteration #   7 - FCN =  -13660.81534394 Edm =    0.0121372 NCalls =    246\n",
      "VariableMetric: Iteration #   8 - FCN =  -13660.84895752 Edm =    0.0203183 NCalls =    260\n",
      "VariableMetric: Iteration #   9 - FCN =  -13660.94049756 Edm =   0.00658099 NCalls =    275\n",
      "VariableMetric: Iteration #  10 - FCN =  -13660.94720743 Edm =   0.00152213 NCalls =    289\n",
      "VariableMetric: Iteration #  11 - FCN =  -13660.98149977 Edm =    0.0328319 NCalls =    305\n",
      "VariableMetric: Iteration #  12 - FCN =  -13661.78043163 Edm =    0.0529776 NCalls =    321\n",
      "VariableMetric: Iteration #  13 - FCN =  -13661.82337857 Edm =  0.000240251 NCalls =    335\n",
      "VariableMetric: After Hessian   - FCN =  -13661.82337857 Edm =  0.000240705 NCalls =    377\n",
      "VariableMetric: Iteration #  14 - FCN =  -13661.82337857 Edm =  0.000240705 NCalls =    377\n",
      "Minuit2Minimizer : Valid minimum - status = 0\n",
      "FVAL  = -13661.8233785713965\n",
      "Edm   = 0.000240704889394441237\n",
      "Nfcn  = 377\n",
      "a1\t  = 8.62045\t +/-  0.799006\t(limited)\n",
      "a2\t  = -2.02194\t +/-  0.302208\t(limited)\n",
      "mass\t  = 124.04\t +/-  0.516753\t(limited)\n",
      "nbackground\t  = 30498.6\t +/-  194.931\t(limited)\n",
      "nsignal\t  = 271.842\t +/-  87.7085\t(limited)\n",
      "width\t  = 1.47595\t +/-  0.450871\t(limited)\n",
      "[#1] INFO:Minization -- RooMinimizer::optimizeConst: deactivating const optimization\n"
     ]
    },
    {
     "name": "stderr",
     "output_type": "stream",
     "text": [
      "Info in <Minuit2>: Minuit2Minimizer::Hesse : Hesse is valid - matrix is accurate\n"
     ]
    }
   ],
   "source": [
    "r = model.fitTo(data, ROOT.RooFit.Minimizer(\"Minuit2\"), ROOT.RooFit.Save(True), ROOT.RooFit.Offset(True))"
   ]
  },
  {
   "cell_type": "markdown",
   "metadata": {},
   "source": [
    "Plot"
   ]
  },
  {
   "cell_type": "code",
   "execution_count": 15,
   "metadata": {},
   "outputs": [
    {
     "name": "stdout",
     "output_type": "stream",
     "text": [
      "[#1] INFO:NumericIntegration -- RooRealIntegral::init(bmodel_Int[x]) using numeric integrator RooIntegrator1D to calculate Int(x)\n",
      "[#1] INFO:Plotting -- RooAbsPdf::plotOn(model) directly selected PDF components: (bmodel)\n",
      "[#1] INFO:Plotting -- RooAbsPdf::plotOn(model) indirectly selected PDF components: (z)\n",
      "[#1] INFO:NumericIntegration -- RooRealIntegral::init(bmodel_Int[x]) using numeric integrator RooIntegrator1D to calculate Int(x)\n",
      "[#1] INFO:Plotting -- RooAbsPdf::plotOn(model) directly selected PDF components: (smodel)\n",
      "[#1] INFO:Plotting -- RooAbsPdf::plotOn(model) indirectly selected PDF components: ()\n",
      "[#1] INFO:NumericIntegration -- RooRealIntegral::init(bmodel_Int[x]) using numeric integrator RooIntegrator1D to calculate Int(x)\n"
     ]
    },
    {
     "data": {
      "image/png": "[encoded data removed]",
      "text/plain": [
       "<IPython.core.display.Image object>"
      ]
     },
     "metadata": {},
     "output_type": "display_data"
    }
   ],
   "source": [
    "canv = ROOT.TCanvas()\n",
    "plot = w.var(\"x\").frame()\n",
    "data.plotOn(plot)\n",
    "model.plotOn(plot)\n",
    "model.plotOn(plot, ROOT.RooFit.Components(\"bmodel\"),ROOT.RooFit.LineStyle(ROOT.kDashed))\n",
    "model.plotOn(plot, ROOT.RooFit.Components(\"smodel\"),ROOT.RooFit.LineColor(ROOT.kRed))\n",
    "plot.Draw()\n",
    "canv.Draw()"
   ]
  },
  {
   "cell_type": "code",
   "execution_count": 16,
   "metadata": {},
   "outputs": [],
   "source": [
    "mc = ROOT.RooStats.ModelConfig(\"ModelConfig\",w);"
   ]
  },
  {
   "cell_type": "code",
   "execution_count": 17,
   "metadata": {},
   "outputs": [],
   "source": [
    "mc.SetPdf(w.pdf(\"model\"))\n",
    "POI_argset = ROOT.RooArgSet(w.var(\"nsignal\"))\n",
    "mc.SetParametersOfInterest(POI_argset)\n",
    "obs_argset = ROOT.RooArgSet(w.var(\"x\"))\n",
    "mc.SetObservables(obs_argset)"
   ]
  },
  {
   "cell_type": "code",
   "execution_count": 18,
   "metadata": {},
   "outputs": [
    {
     "data": {
      "text/plain": [
       "False"
      ]
     },
     "execution_count": 18,
     "metadata": {},
     "output_type": "execute_result"
    }
   ],
   "source": [
    "w.defineSet(\"nuisParams\",\"a1,a2,nbackground\")"
   ]
  },
  {
   "cell_type": "code",
   "execution_count": 19,
   "metadata": {},
   "outputs": [],
   "source": [
    "mc.SetNuisanceParameters(w.set(\"nuisParams\"));"
   ]
  },
  {
   "cell_type": "code",
   "execution_count": 20,
   "metadata": {},
   "outputs": [],
   "source": [
    "w.var(\"mass\").setConstant(True)\n",
    "w.var(\"width\").setConstant(True)"
   ]
  },
  {
   "cell_type": "code",
   "execution_count": 21,
   "metadata": {},
   "outputs": [
    {
     "data": {
      "text/plain": [
       "False"
      ]
     },
     "execution_count": 21,
     "metadata": {},
     "output_type": "execute_result"
    }
   ],
   "source": [
    "getattr(w,'import')(mc)"
   ]
  },
  {
   "cell_type": "code",
   "execution_count": 23,
   "metadata": {},
   "outputs": [
    {
     "data": {
      "text/plain": [
       "False"
      ]
     },
     "execution_count": 23,
     "metadata": {},
     "output_type": "execute_result"
    },
    {
     "name": "stdout",
     "output_type": "stream",
     "text": [
      "[#1] INFO:ObjectHandling -- RooWorkspace::import(w) importing dataset data\n"
     ]
    }
   ],
   "source": [
    "#h1 = data.createHistogram()\n",
    "#bindata = RooDataHist(\"obsData\",\"obsData\", obs_argset, h1)\n",
    "getattr(w,'import')(data)"
   ]
  },
  {
   "cell_type": "code",
   "execution_count": 24,
   "metadata": {},
   "outputs": [
    {
     "data": {
      "text/plain": [
       "False"
      ]
     },
     "execution_count": 24,
     "metadata": {},
     "output_type": "execute_result"
    }
   ],
   "source": [
    "w.writeToFile(\"HggModel.root\")"
   ]
  },
  {
   "cell_type": "code",
   "execution_count": 25,
   "metadata": {},
   "outputs": [
    {
     "name": "stdout",
     "output_type": "stream",
     "text": [
      "\n",
      "RooWorkspace(w) w contents\n",
      "\n",
      "variables\n",
      "---------\n",
      "(a1,a2,mass,nbackground,nsignal,width,x)\n",
      "\n",
      "p.d.f.s\n",
      "-------\n",
      "RooExponential::bmodel[ x=z c=1 ] = 0.00035174\n",
      "RooAddPdf::model[ nbackground * bmodel + nsignal * smodel ] = 0.000348632\n",
      "RooGaussian::smodel[ x=x mean=mass sigma=width ] = 1.06331e-12\n",
      "\n",
      "functions\n",
      "--------\n",
      "RooFormulaVar::z[ actualVars=(a1,a2,x) formula=\"-(a1*x/100+a2*(x/100)^2)\" ] = -7.95262\n",
      "\n",
      "datasets\n",
      "--------\n",
      "RooDataSet::data(x)\n",
      "\n",
      "named sets\n",
      "----------\n",
      "ModelConfig_NuisParams:(a1,a2,nbackground)\n",
      "ModelConfig_Observables:(x)\n",
      "ModelConfig_POI:(nsignal)\n",
      "nuisParams:(a1,a2,nbackground)\n",
      "\n",
      "generic objects\n",
      "---------------\n",
      "RooStats::ModelConfig::ModelConfig\n",
      "\n"
     ]
    }
   ],
   "source": [
    "w.Print()"
   ]
  }
 ],
 "metadata": {
  "kernelspec": {
   "display_name": "Python 3",
   "language": "python",
   "name": "python3"
  },
  "language_info": {
   "codemirror_mode": {
    "name": "ipython",
    "version": 3
   },
   "file_extension": ".py",
   "mimetype": "text/x-python",
   "name": "python",
   "nbconvert_exporter": "python",
   "pygments_lexer": "ipython3",
   "version": "3.6.3"
  }
 },
 "nbformat": 4,
 "nbformat_minor": 2
}
