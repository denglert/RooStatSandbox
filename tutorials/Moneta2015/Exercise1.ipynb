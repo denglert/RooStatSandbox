{
 "cells": [
  {
   "cell_type": "code",
   "execution_count": 1,
   "metadata": {},
   "outputs": [
    {
     "name": "stdout",
     "output_type": "stream",
     "text": [
      "Welcome to JupyROOT 6.12/06\n"
     ]
    }
   ],
   "source": [
    "import ROOT"
   ]
  },
  {
   "cell_type": "markdown",
   "metadata": {},
   "source": [
    "## Data"
   ]
  },
  {
   "cell_type": "code",
   "execution_count": 2,
   "metadata": {},
   "outputs": [],
   "source": [
    "n = 500"
   ]
  },
  {
   "cell_type": "code",
   "execution_count": 3,
   "metadata": {},
   "outputs": [],
   "source": [
    "h1 = ROOT.TH1D(\"h1\",\"data\",100,-5,5)\n",
    "h1.FillRandom(\"gaus\", n)"
   ]
  },
  {
   "cell_type": "code",
   "execution_count": 4,
   "metadata": {},
   "outputs": [
    {
     "data": {
      "image/png": "[encoded data removed]",
      "text/plain": [
       "<IPython.core.display.Image object>"
      ]
     },
     "metadata": {},
     "output_type": "display_data"
    }
   ],
   "source": [
    "c = ROOT.TCanvas(\"canvas\",\";x;\",800,600)\n",
    "h1.Draw()\n",
    "c.Draw()"
   ]
  },
  {
   "cell_type": "markdown",
   "metadata": {},
   "source": [
    "## Fit options"
   ]
  },
  {
   "cell_type": "markdown",
   "metadata": {},
   "source": [
    "- https://root.cern.ch/doc/master/classTH1.html#a7e7d34c91d5ebab4fc9bba3ca47dabdd"
   ]
  },
  {
   "cell_type": "markdown",
   "metadata": {},
   "source": [
    "\toption\tfit options is given in parameter option.\n",
    "\n",
    "    \"W\" Set all weights to 1 for non empty bins; ignore error bars\n",
    "    \"WW\" Set all weights to 1 including empty bins; ignore error bars\n",
    "    \"I\" Use integral of function in bin, normalized by the bin volume, instead of value at bin center\n",
    "    \"L\" Use Loglikelihood method (default is chisquare method)\n",
    "    \"WL\" Use Loglikelihood method and bin contents are not integer, i.e. histogram is weighted (must have Sumw2() set)\n",
    "    \"P\" Use Pearson chi2 (using expected errors instead of observed errors)\n",
    "    \"U\" Use a User specified fitting algorithm (via SetFCN)\n",
    "    \"Q\" Quiet mode (minimum printing)\n",
    "    \"V\" Verbose mode (default is between Q and V)\n",
    "    \"E\" Perform better Errors estimation using Minos technique\n",
    "    \"B\" User defined parameter settings are used for predefined functions like \"gaus\", \"expo\", \"poln\", \"landau\". Use this option when you want to fix one or more parameters for these functions.\n",
    "    \"M\" More. Improve fit results. It uses the IMPROVE command of TMinuit (see TMinuit::mnimpr). This algorithm attempts to improve the found local minimum by searching for a better one.\n",
    "    \"R\" Use the Range specified in the function range\n",
    "    \"N\" Do not store the graphics function, do not draw\n",
    "    \"0\" Do not plot the result of the fit. By default the fitted function is drawn unless the option\"N\" above is specified.\n",
    "    \"+\" Add this new fitted function to the list of fitted functions (by default, any previous function is deleted)\n",
    "    \"C\" In case of linear fitting, don't calculate the chisquare (saves time)\n",
    "    \"F\" If fitting a polN, switch to minuit fitter\n",
    "    \"S\" The result of the fit is returned in the TFitResultPtr (see below Access to the Fit Result)\n"
   ]
  },
  {
   "cell_type": "markdown",
   "metadata": {},
   "source": [
    "### Neyman $\\chi^{2}$ fit"
   ]
  },
  {
   "cell_type": "code",
   "execution_count": 5,
   "metadata": {},
   "outputs": [],
   "source": [
    "f1 = ROOT.TF1(\"f1\",\"gausn\",-5,5)\n",
    "f1.SetLineColor(ROOT.kBlue)\n",
    "f1.SetParameters(100,0,1)"
   ]
  },
  {
   "cell_type": "code",
   "execution_count": 6,
   "metadata": {},
   "outputs": [
    {
     "name": "stdout",
     "output_type": "stream",
     "text": [
      " FCN=63.9188 FROM MIGRAD    STATUS=CONVERGED      71 CALLS          72 TOTAL\n",
      "                     EDM=1.07993e-07    STRATEGY= 1      ERROR MATRIX ACCURATE \n",
      "  EXT PARAMETER                                   STEP         FIRST   \n",
      "  NO.   NAME      VALUE            ERROR          SIZE      DERIVATIVE \n",
      "   1  Constant     4.42650e+01   2.12869e+00   8.33977e-03  -8.69465e-05\n",
      "   2  Mean        -9.92461e-02   4.65236e-02   1.80040e-04  -9.10391e-03\n",
      "   3  Sigma        9.13930e-01   4.74838e-02   6.28238e-05  -9.80933e-03\n"
     ]
    }
   ],
   "source": [
    "r1 = h1.Fit(f1,\"S\")"
   ]
  },
  {
   "cell_type": "code",
   "execution_count": 7,
   "metadata": {},
   "outputs": [
    {
     "name": "stdout",
     "output_type": "stream",
     "text": [
      "\n",
      "****************************************\n",
      "Minimizer is Minuit / Migrad\n",
      "Chi2                      =      63.9188\n",
      "NDf                       =           50\n",
      "Edm                       =  1.07993e-07\n",
      "NCalls                    =           72\n",
      "Constant                  =       44.265   +/-   2.12869     \n",
      "Mean                      =   -0.0992461   +/-   0.0465236   \n",
      "Sigma                     =      0.91393   +/-   0.0474838    \t (limited)\n"
     ]
    }
   ],
   "source": [
    "r1.Print()"
   ]
  },
  {
   "cell_type": "markdown",
   "metadata": {},
   "source": [
    "### Pearson $\\chi^{2}$ fit"
   ]
  },
  {
   "cell_type": "markdown",
   "metadata": {},
   "source": [
    "Using expected errors instead of observed errors."
   ]
  },
  {
   "cell_type": "code",
   "execution_count": 8,
   "metadata": {},
   "outputs": [],
   "source": [
    "f2 = ROOT.TF1(\"f2\",\"gausn\",-5,5)\n",
    "f2.SetLineColor(ROOT.kBlue-3)\n",
    "f2.SetParameters(100,0,1)"
   ]
  },
  {
   "cell_type": "code",
   "execution_count": 9,
   "metadata": {},
   "outputs": [
    {
     "name": "stdout",
     "output_type": "stream",
     "text": [
      " FCN=104.966 FROM MIGRAD    STATUS=CONVERGED      90 CALLS          91 TOTAL\n",
      "                     EDM=6.82357e-08    STRATEGY= 1  ERROR MATRIX UNCERTAINTY   2.6 per cent\n",
      "  EXT PARAMETER                                   STEP         FIRST   \n",
      "  NO.   NAME      VALUE            ERROR          SIZE      DERIVATIVE \n",
      "   1  Constant     5.52501e+01   2.34926e+00   1.16715e-02  -6.90537e-05\n",
      "   2  Mean         8.61281e-02   5.20692e-02  -1.55056e-04  -3.27056e-03\n",
      "   3  Sigma        1.20941e+00   2.95464e-02   2.64335e-05  -5.47277e-02\n"
     ]
    }
   ],
   "source": [
    "r2 = h1.Fit(f2,\"P + S\")"
   ]
  },
  {
   "cell_type": "code",
   "execution_count": 10,
   "metadata": {},
   "outputs": [
    {
     "name": "stdout",
     "output_type": "stream",
     "text": [
      "\n",
      "****************************************\n",
      "Minimizer is Minuit / Migrad\n",
      "Chi2                      =      104.966\n",
      "NDf                       =           97\n",
      "Edm                       =  6.82357e-08\n",
      "NCalls                    =           91\n",
      "Constant                  =      55.2501   +/-   2.34926     \n",
      "Mean                      =    0.0861281   +/-   0.0520692   \n",
      "Sigma                     =      1.20941   +/-   0.0295464    \t (limited)\n"
     ]
    }
   ],
   "source": [
    "r2.Print()"
   ]
  },
  {
   "cell_type": "markdown",
   "metadata": {},
   "source": [
    "### Binned likelihood fit"
   ]
  },
  {
   "cell_type": "markdown",
   "metadata": {},
   "source": [
    "Use Loglikelihood method (default is chisquare method)."
   ]
  },
  {
   "cell_type": "code",
   "execution_count": 11,
   "metadata": {},
   "outputs": [],
   "source": [
    "f3 = ROOT.TF1(\"f3\",\"gausn\",-5,5)\n",
    "f3.SetLineColor(ROOT.kRed)\n",
    "f3.SetParameters(100,0,1)"
   ]
  },
  {
   "cell_type": "code",
   "execution_count": 12,
   "metadata": {},
   "outputs": [
    {
     "name": "stdout",
     "output_type": "stream",
     "text": [
      " FCN=48.9836 FROM MIGRAD    STATUS=CONVERGED      59 CALLS          60 TOTAL\n",
      "                     EDM=3.33384e-07    STRATEGY= 1      ERROR MATRIX ACCURATE \n",
      "  EXT PARAMETER                                   STEP         FIRST   \n",
      "  NO.   NAME      VALUE            ERROR          SIZE      DERIVATIVE \n",
      "   1  Constant     4.99988e+01   2.23601e+00   1.08534e-02  -2.58225e-04\n",
      "   2  Mean         3.60009e-03   4.56758e-02   2.21871e-04   2.40187e-10\n",
      "   3  Sigma        1.02133e+00   3.23015e-02   5.12110e-05   4.34334e-05\n",
      "                               ERR DEF= 0.5\n"
     ]
    }
   ],
   "source": [
    "r3 = h1.Fit(f3,\"L + S\")"
   ]
  },
  {
   "cell_type": "code",
   "execution_count": 13,
   "metadata": {},
   "outputs": [
    {
     "name": "stdout",
     "output_type": "stream",
     "text": [
      "\n",
      "****************************************\n",
      "Minimizer is Minuit / Migrad\n",
      "MinFCN                    =      48.9836\n",
      "Chi2                      =       104.84\n",
      "NDf                       =           97\n",
      "Edm                       =  3.33384e-07\n",
      "NCalls                    =           60\n",
      "Constant                  =      49.9988   +/-   2.23601     \n",
      "Mean                      =   0.00360009   +/-   0.0456758   \n",
      "Sigma                     =      1.02133   +/-   0.0323015    \t (limited)\n"
     ]
    }
   ],
   "source": [
    "r3.Print()"
   ]
  },
  {
   "cell_type": "code",
   "execution_count": 14,
   "metadata": {},
   "outputs": [
    {
     "data": {
      "text/plain": [
       "<ROOT.TLegendEntry object (\"TLegendEntry\") at 0x5490bf0>"
      ]
     },
     "execution_count": 14,
     "metadata": {},
     "output_type": "execute_result"
    }
   ],
   "source": [
    "l = ROOT.TLegend(0.65,0.55,0.88,0.7)\n",
    "l.AddEntry(f1,\"Neyman chi2\",\"l\")\n",
    "l.AddEntry(f2,\"Person chi2\",\"l\")\n",
    "l.AddEntry(f3,\"Binned ML  \",\"l\")"
   ]
  },
  {
   "cell_type": "markdown",
   "metadata": {},
   "source": [
    "## `RooWorkspace`"
   ]
  },
  {
   "cell_type": "code",
   "execution_count": 15,
   "metadata": {},
   "outputs": [
    {
     "name": "stdout",
     "output_type": "stream",
     "text": [
      "\n",
      "\u001b[1mRooFit v3.60 -- Developed by Wouter Verkerke and David Kirkby\u001b[0m \n",
      "                Copyright (C) 2000-2013 NIKHEF, University of California & Stanford University\n",
      "                All rights reserved, please read http://roofit.sourceforge.net/license.txt\n",
      "\n"
     ]
    }
   ],
   "source": [
    "w = ROOT.RooWorkspace (\"w\")"
   ]
  },
  {
   "cell_type": "code",
   "execution_count": 16,
   "metadata": {},
   "outputs": [],
   "source": [
    "w.factory(\"Gaussian:g(x[-5,5],mu[0,-10,10],sigma[1,0,1000])\");\n",
    "w.factory(\"ExtendPdf:model(g,nevt[100,0,100000])\");   "
   ]
  },
  {
   "cell_type": "code",
   "execution_count": 17,
   "metadata": {},
   "outputs": [],
   "source": [
    "pdf = w.pdf(\"model\")\n",
    "x = w.var(\"x\")"
   ]
  },
  {
   "cell_type": "code",
   "execution_count": 18,
   "metadata": {},
   "outputs": [],
   "source": [
    "arglist = ROOT.RooArgList(x)"
   ]
  },
  {
   "cell_type": "code",
   "execution_count": 19,
   "metadata": {},
   "outputs": [
    {
     "name": "stdout",
     "output_type": "stream",
     "text": [
      "[#1] INFO:DataHandling -- RooDataHist::adjustBinning(data): fit range of variable x expanded to nearest bin boundaries: [-5,5] --> [-5,5]\n"
     ]
    }
   ],
   "source": [
    "data = ROOT.RooDataHist(\"data\",\"data\",arglist,h1)"
   ]
  },
  {
   "cell_type": "code",
   "execution_count": 20,
   "metadata": {},
   "outputs": [
    {
     "data": {
      "image/png": "[encoded data removed]",
      "text/plain": [
       "<IPython.core.display.Image object>"
      ]
     },
     "metadata": {},
     "output_type": "display_data"
    }
   ],
   "source": [
    "c = ROOT.TCanvas()\n",
    "pl = x.frame(ROOT.RooFit.Title(\"Gaussian Fit\"))\n",
    "data.plotOn(pl)\n",
    "pl.Draw()\n",
    "c.Draw()"
   ]
  },
  {
   "cell_type": "code",
   "execution_count": 21,
   "metadata": {},
   "outputs": [],
   "source": [
    "w.var(\"sigma\").setVal(1)\n",
    "w.var(\"mu\").setVal(0)"
   ]
  },
  {
   "cell_type": "code",
   "execution_count": 22,
   "metadata": {},
   "outputs": [
    {
     "name": "stdout",
     "output_type": "stream",
     "text": [
      "[#1] INFO:Minization -- p.d.f. provides expected number of events, including extended term in likelihood.\n",
      "[#1] INFO:Minization -- createNLL: caching constraint set under name CONSTR_OF_PDF_model_FOR_OBS_x with 0 entries\n",
      "[#1] INFO:Minization -- RooMinimizer::optimizeConst: activating const optimization\n",
      "Minuit2Minimizer: Minimize with max-calls 1500 convergence for edm < 1 strategy 1\n",
      "MnSeedGenerator: for initial parameters FCN = -1482.341113043\n",
      "MnSeedGenerator: Initial state:   - FCN =  -1482.341113043 Edm =      266.713 NCalls =     13\n",
      "VariableMetric: start iterating until Edm is < 0.001\n",
      "VariableMetric: Initial state   - FCN =  -1482.341113043 Edm =      266.713 NCalls =     13\n",
      "VariableMetric: Iteration #   0 - FCN =  -1482.341113043 Edm =      266.713 NCalls =     13\n",
      "VariableMetric: Iteration #   1 - FCN =  -1886.978163774 Edm =     0.172814 NCalls =     25\n",
      "VariableMetric: Iteration #   2 - FCN =  -1887.277751025 Edm =   0.00863942 NCalls =     33\n",
      "VariableMetric: Iteration #   3 - FCN =  -1887.289103889 Edm =  1.27193e-05 NCalls =     41\n",
      "VariableMetric: After Hessian   - FCN =  -1887.289103889 Edm =  1.27686e-05 NCalls =     57\n",
      "VariableMetric: Iteration #   4 - FCN =  -1887.289103889 Edm =  1.27686e-05 NCalls =     57\n",
      "Minuit2Minimizer : Valid minimum - status = 0\n",
      "FVAL  = -1887.28910388868076\n",
      "Edm   = 1.27686132571821021e-05\n",
      "Nfcn  = 57\n",
      "mu\t  = 0.0036669\t +/-  0.0456802\t(limited)\n",
      "nevt\t  = 499.918\t +/-  22.3579\t(limited)\n",
      "sigma\t  = 1.02143\t +/-  0.0323095\t(limited)\n",
      "[#1] INFO:Minization -- RooMinimizer::optimizeConst: deactivating const optimization\n"
     ]
    },
    {
     "name": "stderr",
     "output_type": "stream",
     "text": [
      "Info in <Minuit2>: Minuit2Minimizer::Hesse : Hesse is valid - matrix is accurate\n"
     ]
    }
   ],
   "source": [
    "r4 = pdf.fitTo(data, ROOT.RooFit.Minimizer(\"Minuit2\",\"Migrad\"), ROOT.RooFit.Save(1) ); "
   ]
  },
  {
   "cell_type": "code",
   "execution_count": 23,
   "metadata": {},
   "outputs": [
    {
     "data": {
      "text/plain": [
       "<ROOT.RooPlot object (\"frame_x_7e61cf0\") at 0x7e61cf0>"
      ]
     },
     "execution_count": 23,
     "metadata": {},
     "output_type": "execute_result"
    }
   ],
   "source": [
    "pdf.plotOn(pl)\n",
    "pdf.paramOn(pl, ROOT.RooFit.Layout(0.6,0.9,0.85))"
   ]
  },
  {
   "cell_type": "code",
   "execution_count": 24,
   "metadata": {},
   "outputs": [
    {
     "data": {
      "image/png": "[encoded data removed]",
      "text/plain": [
       "<IPython.core.display.Image object>"
      ]
     },
     "metadata": {},
     "output_type": "display_data"
    }
   ],
   "source": [
    "pl.Draw()\n",
    "c.Draw()"
   ]
  },
  {
   "cell_type": "code",
   "execution_count": 25,
   "metadata": {},
   "outputs": [
    {
     "data": {
      "text/plain": [
       "False"
      ]
     },
     "execution_count": 25,
     "metadata": {},
     "output_type": "execute_result"
    },
    {
     "name": "stdout",
     "output_type": "stream",
     "text": [
      "[#1] INFO:ObjectHandling -- RooWorkspace::import(w) importing dataset data\n"
     ]
    }
   ],
   "source": [
    "getattr(w,'import')(data)"
   ]
  },
  {
   "cell_type": "code",
   "execution_count": 26,
   "metadata": {},
   "outputs": [
    {
     "name": "stdout",
     "output_type": "stream",
     "text": [
      "\n",
      "RooWorkspace(w) w contents\n",
      "\n",
      "variables\n",
      "---------\n",
      "(mu,nevt,sigma,x)\n",
      "\n",
      "p.d.f.s\n",
      "-------\n",
      "RooGaussian::g[ x=x mean=mu sigma=sigma ] = 0.999994\n",
      "RooExtendPdf::model[ pdf=g n=nevt ] = 0.999994\n",
      "\n",
      "datasets\n",
      "--------\n",
      "RooDataHist::data(x)\n",
      "\n",
      "named sets\n",
      "----------\n",
      "\n"
     ]
    }
   ],
   "source": [
    "w.Print()"
   ]
  },
  {
   "cell_type": "code",
   "execution_count": 27,
   "metadata": {},
   "outputs": [
    {
     "data": {
      "text/plain": [
       "False"
      ]
     },
     "execution_count": 27,
     "metadata": {},
     "output_type": "execute_result"
    }
   ],
   "source": [
    "w.writeToFile(\"GaussianModel.root\", True)"
   ]
  }
 ],
 "metadata": {
  "kernelspec": {
   "display_name": "Python 3",
   "language": "python",
   "name": "python3"
  },
  "language_info": {
   "codemirror_mode": {
    "name": "ipython",
    "version": 3
   },
   "file_extension": ".py",
   "mimetype": "text/x-python",
   "name": "python",
   "nbconvert_exporter": "python",
   "pygments_lexer": "ipython3",
   "version": "3.6.3"
  }
 },
 "nbformat": 4,
 "nbformat_minor": 2
}
