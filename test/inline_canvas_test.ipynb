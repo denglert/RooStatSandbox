{
 "cells": [
  {
   "cell_type": "markdown",
   "metadata": {},
   "source": [
    "# ROOT inline plots"
   ]
  },
  {
   "cell_type": "code",
   "execution_count": 1,
   "metadata": {
    "collapsed": true
   },
   "outputs": [],
   "source": [
    "import ROOT"
   ]
  },
  {
   "cell_type": "markdown",
   "metadata": {},
   "source": [
    "## Versions"
   ]
  },
  {
   "cell_type": "code",
   "execution_count": 2,
   "metadata": {
    "collapsed": false
   },
   "outputs": [
    {
     "data": {
      "text/plain": [
       "'6.04/03'"
      ]
     },
     "execution_count": 2,
     "metadata": {},
     "output_type": "execute_result"
    }
   ],
   "source": [
    "ROOT.gROOT.GetVersion()"
   ]
  },
  {
   "cell_type": "code",
   "execution_count": 3,
   "metadata": {
    "collapsed": false
   },
   "outputs": [
    {
     "name": "stdout",
     "output_type": "stream",
     "text": [
      "# packages in environment at /data/englert/pkgs/build/anaconda/anaconda3/envs/ROOT:\r\n",
      "#\r\n",
      "# Name                    Version                   Build  Channel\r\n",
      "_nb_ext_conf              0.3.0                    py34_0  \r\n",
      "anaconda-client           1.6.3                    py34_0  \r\n",
      "backports_abc             0.5                      py34_0  \r\n",
      "brewer2mpl                1.4.1                     <pip>\r\n",
      "click                     6.7                       <pip>\r\n",
      "cloog                     0.18.0                        0  \r\n",
      "clyent                    1.2.2                    py34_0  \r\n",
      "cycler                    0.10.0                   py34_0  \r\n",
      "dbus                      1.10.10                       0  \r\n",
      "decorator                 4.0.11                   py34_0  \r\n",
      "entrypoints               0.2.2                    py34_0  \r\n",
      "expat                     2.1.0                         0  \r\n",
      "fftw                      3.3.4                         2    NLeSC\r\n",
      "fontconfig                2.12.1                        3  \r\n",
      "freetype                  2.5.5                         2  \r\n",
      "gcc                       4.8.2                        25    NLeSC\r\n",
      "glib                      2.43.0                        1  \r\n",
      "glibc                     2.12.2                        3    NLeSC\r\n",
      "gmp                       5.1.2                         3    NLeSC\r\n",
      "graphviz                  2.38.0                        4    NLeSC\r\n",
      "gsl                       1.16                          2    NLeSC\r\n",
      "gst-plugins-base          1.8.0                         0  \r\n",
      "gstreamer                 1.8.0                         0  \r\n",
      "hdf5                      1.8.17                        1  \r\n",
      "hftools                   0.0.4                     <pip>\r\n",
      "icu                       54.1                          0  \r\n",
      "ipykernel                 4.5.2                    py34_0  \r\n",
      "ipython                   5.1.0                    py34_0  \r\n",
      "ipython_genutils          0.1.0                    py34_0  \r\n",
      "ipywidgets                5.2.2                    py34_1  \r\n",
      "isl                       0.12.2                        2    NLeSC\r\n",
      "jbig                      2.1                           0  \r\n",
      "jinja2                    2.9.6                    py34_0  \r\n",
      "jpeg                      9b                            0  \r\n",
      "jsonschema                2.5.1                    py34_0  \r\n",
      "jupyter                   1.0.0                    py34_3  \r\n",
      "jupyter_client            4.4.0                    py34_0  \r\n",
      "jupyter_console           5.0.0                    py34_0  \r\n",
      "jupyter_core              4.2.1                    py34_0  \r\n",
      "libffi                    3.2.1                         1  \r\n",
      "libgcc                    5.2.0                         0  \r\n",
      "libgfortran               3.0.0                         1  \r\n",
      "libiconv                  1.14                          0  \r\n",
      "libpng                    1.6.27                        0  \r\n",
      "libsodium                 1.0.10                        0  \r\n",
      "libtiff                   4.0.6                         3  \r\n",
      "libxcb                    1.12                          1  \r\n",
      "libxml2                   2.9.4                         0  \r\n",
      "linux-headers             2.6.32                        1    NLeSC\r\n",
      "markupsafe                0.23                     py34_2  \r\n",
      "matplotlib                2.0.0               np111py34_0  \r\n",
      "mistune                   0.7.3                    py34_0  \r\n",
      "mkl                       2017.0.3                      0  \r\n",
      "mpc                       1.0.1                         2    NLeSC\r\n",
      "mpfr                      3.1.2                         2    NLeSC\r\n",
      "nb_anacondacloud          1.2.0                    py34_0  \r\n",
      "nb_conda                  2.0.0                    py34_0  \r\n",
      "nb_conda_kernels          2.0.0                    py34_0  \r\n",
      "nbconvert                 4.2.0                    py34_0  \r\n",
      "nbformat                  4.2.0                    py34_0  \r\n",
      "nbpresent                 3.0.2                    py34_0  \r\n",
      "ncurses                   5.9                          99    NLeSC\r\n",
      "nose                      1.3.7                    py34_1  \r\n",
      "notebook                  4.3.1                    py34_0  \r\n",
      "numexpr                   2.6.1               np111py34_2  \r\n",
      "numpy                     1.11.3                   py34_0  \r\n",
      "openssl                   1.0.2l                        0  \r\n",
      "pandas                    0.19.2              np111py34_1  \r\n",
      "pandoc                    1.19.2.1             hea2e7c5_1  \r\n",
      "path.py                   10.0                     py34_0  \r\n",
      "pcre                      8.37                          5    NLeSC\r\n",
      "pexpect                   4.2.1                    py34_0  \r\n",
      "pickleshare               0.7.4                    py34_0  \r\n",
      "pip                       9.0.1                    py34_1  \r\n",
      "prompt_toolkit            1.0.9                    py34_0  \r\n",
      "ptyprocess                0.5.1                    py34_0  \r\n",
      "pygments                  2.1.3                    py34_0  \r\n",
      "pyparsing                 2.1.4                    py34_0  \r\n",
      "pyqt                      5.6.0                    py34_2  \r\n",
      "pytables                  3.3.0               np111py34_0  \r\n",
      "python                    3.4.5                         0  \r\n",
      "python-dateutil           2.6.0                    py34_0  \r\n",
      "pytz                      2017.2                   py34_0  \r\n",
      "PyYAML                    3.12                      <pip>\r\n",
      "pyyaml                    3.12                     py34_0  \r\n",
      "pyzmq                     16.0.2                   py34_0  \r\n",
      "qt                        5.6.2                         4  \r\n",
      "qtconsole                 4.2.1                    py34_1  \r\n",
      "readline                  6.2                          99    NLeSC\r\n",
      "requests                  2.14.2                   py34_0  \r\n",
      "root                      6.04             py3.4_gcc4.8.2    NLeSC\r\n",
      "root-numpy                4.4.0            root6.04_py3.4    NLeSC\r\n",
      "root_numpy                4.3.0            root6.04_py3.4    NLeSC\r\n",
      "root_pandas               python3                nppy34_2    NLeSC\r\n",
      "rootpy                    master                    py3.4    NLeSC\r\n",
      "scipy                     0.18.1              np111py34_1  \r\n",
      "setuptools                27.2.0                   py34_0  \r\n",
      "simplegeneric             0.8.1                    py34_1  \r\n",
      "sip                       4.18                     py34_0  \r\n",
      "six                       1.10.0                   py34_0  \r\n",
      "sqlite                    3.13.0                        0  \r\n",
      "terminado                 0.6                      py34_0  \r\n",
      "tk                        8.5.18                        0  \r\n",
      "tornado                   4.4.2                    py34_0  \r\n",
      "traitlets                 4.3.1                    py34_0  \r\n",
      "wcwidth                   0.1.7                    py34_0  \r\n",
      "wheel                     0.29.0                   py34_0  \r\n",
      "widgetsnbextension        1.2.6                    py34_0  \r\n",
      "xz                        5.2.2                         1  \r\n",
      "yaml                      0.1.6                         0  \r\n",
      "zeromq                    4.1.5                         0  \r\n",
      "zlib                      1.2.8                         3  \r\n"
     ]
    }
   ],
   "source": [
    "!conda list"
   ]
  },
  {
   "cell_type": "code",
   "execution_count": 4,
   "metadata": {
    "collapsed": false
   },
   "outputs": [
    {
     "name": "stdout",
     "output_type": "stream",
     "text": [
      "3.4.5 |Continuum Analytics, Inc.| (default, Jul  2 2016, 17:47:47) \n",
      "[GCC 4.4.7 20120313 (Red Hat 4.4.7-1)]\n"
     ]
    }
   ],
   "source": [
    "import sys\n",
    "print(sys.version)"
   ]
  },
  {
   "cell_type": "markdown",
   "metadata": {},
   "source": [
    "## Default"
   ]
  },
  {
   "cell_type": "code",
   "execution_count": 5,
   "metadata": {
    "collapsed": false
   },
   "outputs": [],
   "source": [
    "h = ROOT.TH1F(\"gauss\",\"Example histogram\",100,-4,4)\n",
    "h.FillRandom(\"gaus\")\n",
    "c = ROOT.TCanvas(\"myCanvasName\",\"The Canvas Title\",800,600)\n",
    "h.Draw()\n",
    "c.Draw()"
   ]
  },
  {
   "cell_type": "code",
   "execution_count": 6,
   "metadata": {
    "collapsed": false
   },
   "outputs": [
    {
     "data": {
      "text/plain": [
       "<ROOT.TCanvas object (\"myCanvasName\") at 0x63b8220>"
      ]
     },
     "execution_count": 6,
     "metadata": {},
     "output_type": "execute_result"
    }
   ],
   "source": [
    "c"
   ]
  },
  {
   "cell_type": "code",
   "execution_count": 7,
   "metadata": {
    "collapsed": false
   },
   "outputs": [],
   "source": [
    "c.Draw()"
   ]
  },
  {
   "cell_type": "markdown",
   "metadata": {},
   "source": [
    "## Trying with rootnotes"
   ]
  },
  {
   "cell_type": "markdown",
   "metadata": {},
   "source": [
    "https://gist.github.com/mazurov/6194738"
   ]
  },
  {
   "cell_type": "code",
   "execution_count": 8,
   "metadata": {
    "collapsed": true
   },
   "outputs": [],
   "source": [
    "import rootnotes\n",
    "c1 = rootnotes.default_canvas()"
   ]
  },
  {
   "cell_type": "code",
   "execution_count": 9,
   "metadata": {
    "collapsed": false
   },
   "outputs": [
    {
     "name": "stdout",
     "output_type": "stream",
     "text": [
      "\"\"\"\r\n",
      "Helper module for displaying ROOT canvases in ipython notebooks\r\n",
      "\r\n",
      "Usage example:\r\n",
      "    # Save this file as rootnotes.py to your working directory.\r\n",
      "    \r\n",
      "    import rootnotes\r\n",
      "    c1 = rootnotes.default_canvas()\r\n",
      "    fun1 = TF1( 'fun1', 'abs(sin(x)/x)', 0, 10)\r\n",
      "    c1.SetGridx()\r\n",
      "    c1.SetGridy()\r\n",
      "    fun1.Draw()\r\n",
      "    c1\r\n",
      "\r\n",
      "More examples: http://mazurov.github.io/webfest2013/\r\n",
      "\r\n",
      "@author alexander.mazurov@cern.ch\r\n",
      "@author andrey.ustyuzhanin@cern.ch\r\n",
      "@date 2013-08-09\r\n",
      "\"\"\"\r\n",
      "\r\n",
      "import ROOT\r\n",
      "ROOT.gROOT.SetBatch()\r\n",
      "\r\n",
      "import tempfile\r\n",
      "from IPython.core import display\r\n",
      "\r\n",
      "\r\n",
      "def canvas(name=\"icanvas\", size=(800, 600)):\r\n",
      "    \"\"\"Helper method for creating canvas\"\"\"\r\n",
      "\r\n",
      "    # Check if icanvas already exists\r\n",
      "    canvas = ROOT.gROOT.FindObject(name)\r\n",
      "    assert len(size) == 2\r\n",
      "    if canvas:\r\n",
      "        return canvas\r\n",
      "    else:\r\n",
      "        return ROOT.TCanvas(name, name, size[0], size[1])\r\n",
      "\r\n",
      "\r\n",
      "def default_canvas(name=\"icanvas\", size=(800, 600)):\r\n",
      "    \"\"\" depricated \"\"\"\r\n",
      "    return canvas(name=name, size=size)\r\n",
      "\r\n",
      "\r\n",
      "def _display_canvas(canvas):\r\n",
      "    file = tempfile.NamedTemporaryFile(suffix=\".png\")\r\n",
      "    canvas.SaveAs(file.name)\r\n",
      "    ip_img = display.Image(filename=file.name, format='png', embed=True)\r\n",
      "    print(\"trying to display canvas\")\r\n",
      "    return ip_img._repr_png_()\r\n",
      "\r\n",
      "\r\n",
      "def _display_any(obj):\r\n",
      "    file = tempfile.NamedTemporaryFile(suffix=\".png\")\r\n",
      "    obj.Draw()\r\n",
      "    ROOT.gPad.SaveAs(file.name)\r\n",
      "    ip_img = display.Image(filename=file.name, format='png', embed=True)\r\n",
      "    print(\"trying to display canvas\")\r\n",
      "    return ip_img._repr_png_()\r\n",
      "\r\n",
      "# register display function with PNG formatter:\r\n",
      "png_formatter = get_ipython().display_formatter.formatters['image/png']\r\n",
      "\r\n",
      "# Register ROOT types in ipython\r\n",
      "#\r\n",
      "#   In  [1]: canvas = rootnotes.canvas()\r\n",
      "#   In  [2]: canvas\r\n",
      "#   Out [2]: [image will be here]\r\n",
      "png_formatter.for_type(ROOT.TCanvas, _display_canvas)\r\n",
      "png_formatter.for_type(ROOT.TF1, _display_any)\r\n"
     ]
    }
   ],
   "source": [
    "!cat rootnotes.py"
   ]
  },
  {
   "cell_type": "code",
   "execution_count": 10,
   "metadata": {
    "collapsed": true
   },
   "outputs": [],
   "source": [
    "w = ROOT.RooWorkspace()\n",
    "w.factory('Gaussian::g(x[-5,5],mu[-3,3],sigma[1])')\n",
    "w.factory('Exponential::e(x,tau[-.5,-3,0])')\n",
    "w.factory('SUM::model(s[50,0,100]*g,b[100,0,1000]*e)')\n",
    "w.Print() "
   ]
  },
  {
   "cell_type": "code",
   "execution_count": 11,
   "metadata": {
    "collapsed": false
   },
   "outputs": [
    {
     "name": "stdout",
     "output_type": "stream",
     "text": [
      "trying to display canvas\n"
     ]
    },
    {
     "data": {
      "image/png": "",
      "text/plain": [
       "<ROOT.TCanvas object (\"icanvas\") at 0x6529880>"
      ]
     },
     "execution_count": 11,
     "metadata": {},
     "output_type": "execute_result"
    }
   ],
   "source": [
    "x = w.var('x')\n",
    "pdf = w.pdf('model')\n",
    "frame = x.frame()\n",
    "data = pdf.generate(ROOT.RooArgSet(x))\n",
    "data.plotOn(frame)\n",
    "fitResult = pdf.fitTo(data,ROOT.RooFit.Save(),ROOT.RooFit.PrintLevel(-1))\n",
    "pdf.plotOn(frame)\n",
    "frame.Draw()\n",
    "c1"
   ]
  }
 ],
 "metadata": {
  "anaconda-cloud": {},
  "kernelspec": {
   "display_name": "Python [conda env:ROOT]",
   "language": "python",
   "name": "conda-env-ROOT-py"
  },
  "language_info": {
   "codemirror_mode": {
    "name": "ipython",
    "version": 3
   },
   "file_extension": ".py",
   "mimetype": "text/x-python",
   "name": "python",
   "nbconvert_exporter": "python",
   "pygments_lexer": "ipython3",
   "version": "3.4.5"
  }
 },
 "nbformat": 4,
 "nbformat_minor": 2
}
